{
 "cells": [
  {
   "cell_type": "code",
   "execution_count": 217,
   "metadata": {},
   "outputs": [],
   "source": [
    "import idx2numpy\n",
    "import numpy as np\n",
    "import matplotlib.pyplot as plt\n",
    "%matplotlib inline  \n",
    "from keras.models import Sequential\n",
    "from keras.layers import Convolution2D, MaxPooling2D, Flatten, Dense, Dropout\n",
    "from keras.utils import to_categorical\n",
    "from keras.optimizers import Adam, Nadam\n",
    "from keras.activations import softmax, relu, elu, sigmoid\n",
    "from keras.losses import categorical_crossentropy, logcosh\n",
    "import talos as ta\n",
    "from talos import live\n",
    "from sklearn.model_selection import train_test_split\n",
    "from sklearn.metrics import accuracy_score"
   ]
  },
  {
   "cell_type": "code",
   "execution_count": 130,
   "metadata": {},
   "outputs": [],
   "source": [
    "def read_data():\n",
    "    train_images = idx2numpy.convert_from_file('train-images.idx3-ubyte')\n",
    "    train_labels = idx2numpy.convert_from_file('train-labels.idx1-ubyte')\n",
    "    test_images = idx2numpy.convert_from_file('t10k-images.idx3-ubyte')\n",
    "    test_labels = idx2numpy.convert_from_file('t10k-labels.idx1-ubyte')\n",
    "    return train_images,train_labels,test_images,test_labels"
   ]
  },
  {
   "cell_type": "code",
   "execution_count": 131,
   "metadata": {},
   "outputs": [],
   "source": [
    "def preprocessing(images,labels):\n",
    "    rows,cols = 28,28\n",
    "    number_class_labels = len(np.unique(labels))\n",
    "    images = images.reshape(images.shape[0], rows, cols, 1)\n",
    "    images = images.astype('float32')\n",
    "    images /= 255\n",
    "    labels = to_categorical(labels, number_class_labels)\n",
    "    return images,labels"
   ]
  },
  {
   "cell_type": "code",
   "execution_count": 132,
   "metadata": {},
   "outputs": [],
   "source": [
    "train_images_all,train_labels_all,test_images_all,test_labels_all = read_data()\n",
    "train_image_pr, train_label_pr = preprocessing(train_images_all,train_labels_all)\n",
    "test_images, test_labels = preprocessing(test_images_all,test_labels_all)\n",
    "train_images, val_images, train_labels, val_labels = train_test_split(train_image_pr, train_label_pr, test_size=0.2, \n",
    "                                                                      random_state=1)"
   ]
  },
  {
   "cell_type": "code",
   "execution_count": 146,
   "metadata": {},
   "outputs": [],
   "source": [
    "def cnn_model_after_tuning(train_images,train_labels,val_images,val_labels, params):\n",
    "    classifier_model = Sequential()\n",
    "    classifier_model.add(Convolution2D(32,(3,3), input_shape = (28,28,1),activation = params['activation']))\n",
    "    classifier_model.add(MaxPooling2D(pool_size = (2,2),strides = 2))\n",
    "    classifier_model.add(Dropout(params['dropout']))\n",
    "    classifier_model.add(Flatten())\n",
    "    classifier_model.add(Dense(units = 128, activation = params['activation']))\n",
    "    classifier_model.add(Dropout(params['dropout']))\n",
    "    classifier_model.add(Dense(units = 10, activation = params['last_activation']))\n",
    "    classifier_model.compile(loss=params['losses'],\n",
    "                  optimizer=params['optimizer'](),\n",
    "                  metrics=['acc'])\n",
    "    history = classifier_model.fit(\n",
    "                        train_images,train_labels,\n",
    "                        validation_data=[val_images, val_labels],\n",
    "                        batch_size=params['batch_size'],\n",
    "                        callbacks=[live()],\n",
    "                        epochs=params['epochs'],\n",
    "                        verbose=0)\n",
    "    return history,classifier_model"
   ]
  },
  {
   "cell_type": "code",
   "execution_count": 147,
   "metadata": {},
   "outputs": [],
   "source": [
    "parameters = {\n",
    "     'batch_size': (30,50,60),\n",
    "     'epochs': (5,10,20),\n",
    "     'dropout': (0,0.25,0.5),\n",
    "     'optimizer': [Nadam, Adam],\n",
    "     'losses': [categorical_crossentropy,logcosh],\n",
    "     'activation':[relu, elu],\n",
    "     'last_activation': [softmax,sigmoid]\n",
    "    }"
   ]
  },
  {
   "cell_type": "code",
   "execution_count": 154,
   "metadata": {},
   "outputs": [
    {
     "data": {
      "image/png": "[encoded data removed]",
      "text/plain": [
       "<Figure size 864x576 with 2 Axes>"
      ]
     },
     "metadata": {
      "needs_background": "light"
     },
     "output_type": "display_data"
    },
    {
     "name": "stderr",
     "output_type": "stream",
     "text": [
      "\n",
      "\n",
      "\n",
      "\n",
      "\n",
      "\n",
      "\n",
      "\n",
      "\n",
      "\n",
      "\n",
      "\n",
      "\n",
      "\n",
      "\n",
      "\n",
      "\n",
      "\n",
      "\n",
      "\n",
      "\n",
      "\n",
      "\n",
      "\n",
      "\n",
      "\n",
      "\n",
      "\n",
      "\n",
      "\n",
      "\n",
      "\n",
      "\n",
      "100%|█████████████████████████████████████████████████████████████████████████████████| 16/16 [49:54<00:00, 201.08s/it]\n",
      "\n",
      "\n",
      "\n",
      "\n",
      "\n",
      "\n",
      "\n",
      "\n",
      "\n",
      "\n",
      "\n",
      "\n",
      "\n",
      "\n",
      "\n",
      "\n",
      "\n",
      "\n",
      "\n",
      "\n",
      "\n",
      "\n",
      "\n",
      "\n",
      "\n",
      "\n",
      "\n",
      "\n",
      "\n",
      "\n",
      "\n",
      "\n"
     ]
    },
    {
     "name": "stdout",
     "output_type": "stream",
     "text": [
      "Scan Finished!\n"
     ]
    }
   ],
   "source": [
    "t = ta.Scan(x=train_images,\n",
    "            y=train_labels,\n",
    "            x_val=val_images,\n",
    "            y_val=val_labels,\n",
    "            model=cnn_model_after_tuning,\n",
    "            params=parameters,\n",
    "            grid_downsample=0.01,\n",
    "            print_params = True)\n",
    "                        "
   ]
  },
  {
   "cell_type": "code",
   "execution_count": 199,
   "metadata": {},
   "outputs": [
    {
     "name": "stdout",
     "output_type": "stream",
     "text": [
      "Scan Summary Details\n"
     ]
    }
   ],
   "source": [
    "print(\"Scan Summary Details\")\n",
    "t.details"
   ]
  },
  {
   "cell_type": "code",
   "execution_count": 200,
   "metadata": {},
   "outputs": [
    {
     "data": {
      "text/html": [
       "<div>\n",
       "<style scoped>\n",
       "    .dataframe tbody tr th:only-of-type {\n",
       "        vertical-align: middle;\n",
       "    }\n",
       "\n",
       "    .dataframe tbody tr th {\n",
       "        vertical-align: top;\n",
       "    }\n",
       "\n",
       "    .dataframe thead th {\n",
       "        text-align: right;\n",
       "    }\n",
       "</style>\n",
       "<table border=\"1\" class=\"dataframe\">\n",
       "  <thead>\n",
       "    <tr style=\"text-align: right;\">\n",
       "      <th></th>\n",
       "      <th>round_epochs</th>\n",
       "      <th>val_loss</th>\n",
       "      <th>val_acc</th>\n",
       "      <th>loss</th>\n",
       "      <th>acc</th>\n",
       "      <th>batch_size</th>\n",
       "      <th>epochs</th>\n",
       "      <th>dropout</th>\n",
       "      <th>optimizer</th>\n",
       "      <th>losses</th>\n",
       "      <th>activation</th>\n",
       "      <th>last_activation</th>\n",
       "      <th>nan</th>\n",
       "    </tr>\n",
       "  </thead>\n",
       "  <tbody>\n",
       "    <tr>\n",
       "      <th>1</th>\n",
       "      <td>9</td>\n",
       "      <td>0.08697739338418463</td>\n",
       "      <td>0.9820000068346659</td>\n",
       "      <td>0.009354746603607396</td>\n",
       "      <td>0.9978958352903525</td>\n",
       "      <td>40</td>\n",
       "      <td>9</td>\n",
       "      <td>0.0</td>\n",
       "      <td>&lt;class 'keras.optimizers.Adam'&gt;</td>\n",
       "      <td>&lt;function categorical_crossentropy at 0x000001...</td>\n",
       "      <td>&lt;function elu at 0x00000195D57812F0&gt;</td>\n",
       "      <td>&lt;function softmax at 0x00000195D5781268&gt;</td>\n",
       "      <td>0</td>\n",
       "    </tr>\n",
       "    <tr>\n",
       "      <th>2</th>\n",
       "      <td>7</td>\n",
       "      <td>0.0766620033026993</td>\n",
       "      <td>0.9818333409229915</td>\n",
       "      <td>0.014351068318734785</td>\n",
       "      <td>0.9949791703621547</td>\n",
       "      <td>40</td>\n",
       "      <td>7</td>\n",
       "      <td>0.0</td>\n",
       "      <td>&lt;class 'keras.optimizers.Adam'&gt;</td>\n",
       "      <td>&lt;function categorical_crossentropy at 0x000001...</td>\n",
       "      <td>&lt;function elu at 0x00000195D57812F0&gt;</td>\n",
       "      <td>&lt;function sigmoid at 0x00000195D5781620&gt;</td>\n",
       "      <td>1</td>\n",
       "    </tr>\n",
       "    <tr>\n",
       "      <th>3</th>\n",
       "      <td>7</td>\n",
       "      <td>0.001634645675649425</td>\n",
       "      <td>0.979000004529953</td>\n",
       "      <td>0.0007155206014695314</td>\n",
       "      <td>0.990645837366581</td>\n",
       "      <td>48</td>\n",
       "      <td>7</td>\n",
       "      <td>0.0</td>\n",
       "      <td>&lt;class 'keras.optimizers.Nadam'&gt;</td>\n",
       "      <td>&lt;function logcosh at 0x00000195D57546A8&gt;</td>\n",
       "      <td>&lt;function elu at 0x00000195D57812F0&gt;</td>\n",
       "      <td>&lt;function softmax at 0x00000195D5781268&gt;</td>\n",
       "      <td>2</td>\n",
       "    </tr>\n",
       "    <tr>\n",
       "      <th>4</th>\n",
       "      <td>6</td>\n",
       "      <td>0.0013722561323442262</td>\n",
       "      <td>0.983583334311843</td>\n",
       "      <td>0.0005234579323401689</td>\n",
       "      <td>0.9926041671074927</td>\n",
       "      <td>39</td>\n",
       "      <td>6</td>\n",
       "      <td>0.0</td>\n",
       "      <td>&lt;class 'keras.optimizers.Nadam'&gt;</td>\n",
       "      <td>&lt;function logcosh at 0x00000195D57546A8&gt;</td>\n",
       "      <td>&lt;function relu at 0x00000195D5781510&gt;</td>\n",
       "      <td>&lt;function softmax at 0x00000195D5781268&gt;</td>\n",
       "      <td>3</td>\n",
       "    </tr>\n",
       "    <tr>\n",
       "      <th>5</th>\n",
       "      <td>7</td>\n",
       "      <td>0.001221853429243575</td>\n",
       "      <td>0.9844166719118754</td>\n",
       "      <td>0.0003789444809293639</td>\n",
       "      <td>0.9950625035613775</td>\n",
       "      <td>44</td>\n",
       "      <td>7</td>\n",
       "      <td>0.0</td>\n",
       "      <td>&lt;class 'keras.optimizers.Nadam'&gt;</td>\n",
       "      <td>&lt;function logcosh at 0x00000195D57546A8&gt;</td>\n",
       "      <td>&lt;function relu at 0x00000195D5781510&gt;</td>\n",
       "      <td>&lt;function softmax at 0x00000195D5781268&gt;</td>\n",
       "      <td>4</td>\n",
       "    </tr>\n",
       "  </tbody>\n",
       "</table>\n",
       "</div>"
      ],
      "text/plain": [
       "  round_epochs               val_loss             val_acc  \\\n",
       "1            9    0.08697739338418463  0.9820000068346659   \n",
       "2            7     0.0766620033026993  0.9818333409229915   \n",
       "3            7   0.001634645675649425   0.979000004529953   \n",
       "4            6  0.0013722561323442262   0.983583334311843   \n",
       "5            7   0.001221853429243575  0.9844166719118754   \n",
       "\n",
       "                    loss                 acc batch_size epochs dropout  \\\n",
       "1   0.009354746603607396  0.9978958352903525         40      9     0.0   \n",
       "2   0.014351068318734785  0.9949791703621547         40      7     0.0   \n",
       "3  0.0007155206014695314   0.990645837366581         48      7     0.0   \n",
       "4  0.0005234579323401689  0.9926041671074927         39      6     0.0   \n",
       "5  0.0003789444809293639  0.9950625035613775         44      7     0.0   \n",
       "\n",
       "                          optimizer  \\\n",
       "1   <class 'keras.optimizers.Adam'>   \n",
       "2   <class 'keras.optimizers.Adam'>   \n",
       "3  <class 'keras.optimizers.Nadam'>   \n",
       "4  <class 'keras.optimizers.Nadam'>   \n",
       "5  <class 'keras.optimizers.Nadam'>   \n",
       "\n",
       "                                              losses  \\\n",
       "1  <function categorical_crossentropy at 0x000001...   \n",
       "2  <function categorical_crossentropy at 0x000001...   \n",
       "3           <function logcosh at 0x00000195D57546A8>   \n",
       "4           <function logcosh at 0x00000195D57546A8>   \n",
       "5           <function logcosh at 0x00000195D57546A8>   \n",
       "\n",
       "                              activation  \\\n",
       "1   <function elu at 0x00000195D57812F0>   \n",
       "2   <function elu at 0x00000195D57812F0>   \n",
       "3   <function elu at 0x00000195D57812F0>   \n",
       "4  <function relu at 0x00000195D5781510>   \n",
       "5  <function relu at 0x00000195D5781510>   \n",
       "\n",
       "                            last_activation  NaN  \n",
       "1  <function softmax at 0x00000195D5781268>    0  \n",
       "2  <function sigmoid at 0x00000195D5781620>    1  \n",
       "3  <function softmax at 0x00000195D5781268>    2  \n",
       "4  <function softmax at 0x00000195D5781268>    3  \n",
       "5  <function softmax at 0x00000195D5781268>    4  "
      ]
     },
     "execution_count": 200,
     "metadata": {},
     "output_type": "execute_result"
    }
   ],
   "source": [
    "#(\"The hyper-parameters selected in each iteration and their train and val accuracies\")\n",
    "r = ta.Reporting(t)\n",
    "r.data.head()"
   ]
  },
  {
   "cell_type": "code",
   "execution_count": 178,
   "metadata": {},
   "outputs": [
    {
     "name": "stdout",
     "output_type": "stream",
     "text": [
      "Number of iterations during scanning\n"
     ]
    },
    {
     "data": {
      "text/plain": [
       "16"
      ]
     },
     "execution_count": 178,
     "metadata": {},
     "output_type": "execute_result"
    }
   ],
   "source": [
    "print(\"Number of iterations during scanning\")\n",
    "r.rounds()"
   ]
  },
  {
   "cell_type": "code",
   "execution_count": 182,
   "metadata": {},
   "outputs": [
    {
     "name": "stdout",
     "output_type": "stream",
     "text": [
      "Highest validation accuracy\n"
     ]
    },
    {
     "data": {
      "text/plain": [
       "'0.9867500058611234'"
      ]
     },
     "execution_count": 182,
     "metadata": {},
     "output_type": "execute_result"
    }
   ],
   "source": [
    "print(\"Highest validation accuracy\")\n",
    "r.high()"
   ]
  },
  {
   "cell_type": "code",
   "execution_count": 183,
   "metadata": {},
   "outputs": [
    {
     "data": {
      "text/plain": [
       "11"
      ]
     },
     "execution_count": 183,
     "metadata": {},
     "output_type": "execute_result"
    }
   ],
   "source": [
    "# returns the number of rounds it took to find best model\n",
    "r.rounds2high()"
   ]
  },
  {
   "cell_type": "code",
   "execution_count": 186,
   "metadata": {},
   "outputs": [
    {
     "data": {
      "image/png": "[encoded data removed]",
      "text/plain": [
       "<Figure size 720x475.2 with 1 Axes>"
      ]
     },
     "metadata": {},
     "output_type": "display_data"
    }
   ],
   "source": [
    "# a regression plot for two dimensions \n",
    "r.plot_regs()"
   ]
  },
  {
   "cell_type": "code",
   "execution_count": 187,
   "metadata": {},
   "outputs": [
    {
     "data": {
      "image/png": "[encoded data removed]",
      "text/plain": [
       "<Figure size 864x475.2 with 1 Axes>"
      ]
     },
     "metadata": {},
     "output_type": "display_data"
    }
   ],
   "source": [
    "# line plot\n",
    "r.plot_line()"
   ]
  },
  {
   "cell_type": "code",
   "execution_count": 188,
   "metadata": {},
   "outputs": [
    {
     "data": {
      "image/png": "[encoded data removed]",
      "text/plain": [
       "<Figure size 720x475.2 with 1 Axes>"
      ]
     },
     "metadata": {},
     "output_type": "display_data"
    }
   ],
   "source": [
    "# up to two dimensional kernel density estimator\n",
    "r.plot_kde('val_acc')"
   ]
  },
  {
   "cell_type": "code",
   "execution_count": 215,
   "metadata": {},
   "outputs": [],
   "source": [
    "p = ta.Predict(t)\n",
    "predicted_test_labels = p.predict_classes(test_images)"
   ]
  },
  {
   "cell_type": "code",
   "execution_count": 219,
   "metadata": {},
   "outputs": [
    {
     "data": {
      "text/plain": [
       "0.9861"
      ]
     },
     "execution_count": 219,
     "metadata": {},
     "output_type": "execute_result"
    }
   ],
   "source": [
    "accuracy_score(test_labels_all,predicted_test_labels)"
   ]
  },
  {
   "cell_type": "code",
   "execution_count": 229,
   "metadata": {},
   "outputs": [
    {
     "name": "stdout",
     "output_type": "stream",
     "text": [
      "99.51% (+/- 0.08%)\n"
     ]
    }
   ],
   "source": [
    "e = ta.Evaluate(t)\n",
    "e.evaluate(train_images, train_labels, folds=10, average='macro')"
   ]
  }
 ],
 "metadata": {
  "kernelspec": {
   "display_name": "Python 3",
   "language": "python",
   "name": "python3"
  },
  "language_info": {
   "codemirror_mode": {
    "name": "ipython",
    "version": 3
   },
   "file_extension": ".py",
   "mimetype": "text/x-python",
   "name": "python",
   "nbconvert_exporter": "python",
   "pygments_lexer": "ipython3",
   "version": "3.7.0"
  }
 },
 "nbformat": 4,
 "nbformat_minor": 2
}
