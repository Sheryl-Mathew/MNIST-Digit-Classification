{
 "cells": [
  {
   "cell_type": "code",
   "execution_count": 209,
   "metadata": {},
   "outputs": [],
   "source": [
    "import idx2numpy\n",
    "import numpy as np\n",
    "import matplotlib.pyplot as plt\n",
    "%matplotlib inline  \n",
    "from keras.models import Sequential\n",
    "from keras.layers import Convolution2D, MaxPooling2D, Flatten, Dense, Dropout\n",
    "from keras.utils import to_categorical"
   ]
  },
  {
   "cell_type": "code",
   "execution_count": 210,
   "metadata": {},
   "outputs": [],
   "source": [
    "def read_data():\n",
    "    train_images = idx2numpy.convert_from_file('train-images.idx3-ubyte')\n",
    "    train_labels = idx2numpy.convert_from_file('train-labels.idx1-ubyte')\n",
    "    test_images = idx2numpy.convert_from_file('t10k-images.idx3-ubyte')\n",
    "    test_labels = idx2numpy.convert_from_file('t10k-labels.idx1-ubyte')\n",
    "    return train_images,train_labels,test_images,test_labels"
   ]
  },
  {
   "cell_type": "code",
   "execution_count": 211,
   "metadata": {},
   "outputs": [],
   "source": [
    "def display_digits(train_images):\n",
    "    print(\"Display the gray-scale digits\")\n",
    "    images = []\n",
    "    columns = 5\n",
    "    for i in [1,3,16,7,2,0,13,15,17,4]:\n",
    "        image = np.asarray(train_images[i])\n",
    "        images.append(image)  \n",
    "    for i, image in enumerate(images):\n",
    "        plt.subplot(len(images) / columns + 1, columns, i + 1)\n",
    "        plt.imshow(image,cmap='gray')\n",
    "    return 1"
   ]
  },
  {
   "cell_type": "code",
   "execution_count": 212,
   "metadata": {},
   "outputs": [],
   "source": [
    "def preprocessing(images,labels):\n",
    "    rows,cols = 28,28\n",
    "    number_class_labels = len(np.unique(labels))\n",
    "    images = images.reshape(images.shape[0], rows, cols, 1)\n",
    "    images = images.astype('float32')\n",
    "    images /= 255\n",
    "    labels = to_categorical(labels, number_class_labels)\n",
    "    return images,labels"
   ]
  },
  {
   "cell_type": "code",
   "execution_count": 213,
   "metadata": {},
   "outputs": [],
   "source": [
    "def cnn_model():\n",
    "    classifier_model = Sequential()\n",
    "    classifier_model.add(Convolution2D(32,(3,3), input_shape = (28,28,1),activation = 'relu'))\n",
    "    classifier_model.add(MaxPooling2D(pool_size = (2,2),strides = 2))\n",
    "    classifier_model.add(Dropout(0.25))\n",
    "    classifier_model.add(Flatten())\n",
    "    \n",
    "    classifier_model.add(Dense(units = 128, activation = 'relu'))\n",
    "    classifier_model.add(Dropout(0.5))\n",
    "    classifier_model.add(Dense(units = 10, activation = 'softmax'))\n",
    "    classifier_model.compile(optimizer = 'adam', loss = 'categorical_crossentropy', metrics = ['accuracy'])\n",
    "    print(classifier_model.summary())\n",
    "    return classifier_model"
   ]
  },
  {
   "cell_type": "code",
   "execution_count": 214,
   "metadata": {},
   "outputs": [],
   "source": [
    "def training(classifier_model,train_images,train_labels,number_of_iterations):    \n",
    "    history_of_training = classifier_model.fit(train_images,train_labels, batch_size=25, epochs=number_of_iterations, verbose=1, validation_split = 0.1, shuffle = True)\n",
    "    return classifier_model, history_of_training.history['loss']"
   ]
  },
  {
   "cell_type": "code",
   "execution_count": 215,
   "metadata": {},
   "outputs": [],
   "source": [
    "def score_of_model(trained_model,images,labels,type_of_data):\n",
    "    score = trained_model.evaluate(images,labels,verbose=0)\n",
    "    print(type_of_data)\n",
    "    print(\"Loss: %f\" %(score[0]))\n",
    "    print(\"Accuracy: %f\" %(score[1]*100))\n",
    "    print()"
   ]
  },
  {
   "cell_type": "code",
   "execution_count": 216,
   "metadata": {},
   "outputs": [],
   "source": [
    "def plot_learning_curve(loss,epochs):\n",
    "    x_values = np.array(range(epochs))+1 \n",
    "    y_values =  np.array(loss)\n",
    "    plt.plot(x_values, y_values, color = 'red', marker='o', linestyle='solid')\n",
    "    plt.xlabel(\"Number of Epochs\")\n",
    "    plt.ylabel(\"Loss\")\n",
    "    plt.title(\"Learning Curve\")\n",
    "    save_file_name = \"learning_curve.png\"\n",
    "    plt.savefig(save_file_name)\n",
    "    plt.show()"
   ]
  },
  {
   "cell_type": "code",
   "execution_count": null,
   "metadata": {},
   "outputs": [],
   "source": [
    "def accuracy_curve(history)\n",
    "    plt.plot(history.history['acc'])\n",
    "    plt.plot(history.history['val_acc'])\n",
    "    plt.title('Accuracy Curve')\n",
    "    plt.xlabel('Number of Epochs')\n",
    "    plt.ylabel('Accuracy')\n",
    "    plt.legend(['Training', 'Development'], loc='upper left')\n",
    "    save_file_name = \"accuracy_curve.png\"\n",
    "    plt.savefig(save_file_name)\n",
    "    plt.show()"
   ]
  },
  {
   "cell_type": "code",
   "execution_count": 217,
   "metadata": {},
   "outputs": [
    {
     "name": "stdout",
     "output_type": "stream",
     "text": [
      "_________________________________________________________________\n",
      "Layer (type)                 Output Shape              Param #   \n",
      "=================================================================\n",
      "conv2d_27 (Conv2D)           (None, 26, 26, 32)        320       \n",
      "_________________________________________________________________\n",
      "max_pooling2d_26 (MaxPooling (None, 13, 13, 32)        0         \n",
      "_________________________________________________________________\n",
      "dropout_38 (Dropout)         (None, 13, 13, 32)        0         \n",
      "_________________________________________________________________\n",
      "flatten_24 (Flatten)         (None, 5408)              0         \n",
      "_________________________________________________________________\n",
      "dense_45 (Dense)             (None, 128)               692352    \n",
      "_________________________________________________________________\n",
      "dropout_39 (Dropout)         (None, 128)               0         \n",
      "_________________________________________________________________\n",
      "dense_46 (Dense)             (None, 10)                1290      \n",
      "=================================================================\n",
      "Total params: 693,962\n",
      "Trainable params: 693,962\n",
      "Non-trainable params: 0\n",
      "_________________________________________________________________\n",
      "None\n",
      "Train on 54000 samples, validate on 6000 samples\n",
      "Epoch 1/10\n",
      "54000/54000 [==============================] - 48s 894us/step - loss: 0.2777 - acc: 0.9153 - val_loss: 0.0648 - val_acc: 0.9822\n",
      "Epoch 2/10\n",
      "54000/54000 [==============================] - 48s 891us/step - loss: 0.1136 - acc: 0.9660 - val_loss: 0.0498 - val_acc: 0.9852\n",
      "Epoch 3/10\n",
      "54000/54000 [==============================] - 48s 896us/step - loss: 0.0841 - acc: 0.9744 - val_loss: 0.0504 - val_acc: 0.9857\n",
      "Epoch 4/10\n",
      "54000/54000 [==============================] - 48s 888us/step - loss: 0.0729 - acc: 0.9772 - val_loss: 0.0420 - val_acc: 0.9887\n",
      "Epoch 5/10\n",
      "54000/54000 [==============================] - 48s 885us/step - loss: 0.0624 - acc: 0.9806 - val_loss: 0.0449 - val_acc: 0.9882\n",
      "Epoch 6/10\n",
      "54000/54000 [==============================] - 52s 965us/step - loss: 0.0544 - acc: 0.9827 - val_loss: 0.0421 - val_acc: 0.9895\n",
      "Epoch 7/10\n",
      "54000/54000 [==============================] - 59s 1ms/step - loss: 0.0496 - acc: 0.9841 - val_loss: 0.0402 - val_acc: 0.9892\n",
      "Epoch 8/10\n",
      "54000/54000 [==============================] - 60s 1ms/step - loss: 0.0470 - acc: 0.9847 - val_loss: 0.0393 - val_acc: 0.9893\n",
      "Epoch 9/10\n",
      "54000/54000 [==============================] - 59s 1ms/step - loss: 0.0434 - acc: 0.9862 - val_loss: 0.0429 - val_acc: 0.9900\n",
      "Epoch 10/10\n",
      "54000/54000 [==============================] - 58s 1ms/step - loss: 0.0380 - acc: 0.9879 - val_loss: 0.0385 - val_acc: 0.9910\n"
     ]
    }
   ],
   "source": [
    "train_images,train_labels,test_images,test_labels = read_data()\n",
    "train_image_pr, train_label_pr = preprocessing(train_images,train_labels)\n",
    "test_image_pr, test_label_pr = preprocessing(test_images,test_labels)\n",
    "model = cnn_model()\n",
    "epochs = 10\n",
    "trained_model,loss = training(model,train_image_pr, train_label_pr,epochs)"
   ]
  },
  {
   "cell_type": "code",
   "execution_count": 205,
   "metadata": {
    "collapsed": true
   },
   "outputs": [
    {
     "name": "stdout",
     "output_type": "stream",
     "text": [
      "Display the gray-scale digits\n"
     ]
    },
    {
     "data": {
      "text/plain": [
       "1"
      ]
     },
     "execution_count": 205,
     "metadata": {},
     "output_type": "execute_result"
    },
    {
     "data": {
      "image/png": "[encoded data removed]",
      "text/plain": [
       "<Figure size 432x288 with 10 Axes>"
      ]
     },
     "metadata": {
      "needs_background": "light"
     },
     "output_type": "display_data"
    }
   ],
   "source": [
    "display_digits(train_images)"
   ]
  },
  {
   "cell_type": "code",
   "execution_count": 218,
   "metadata": {},
   "outputs": [
    {
     "data": {
      "image/png": "[encoded data removed]",
      "text/plain": [
       "<Figure size 432x288 with 1 Axes>"
      ]
     },
     "metadata": {
      "needs_background": "light"
     },
     "output_type": "display_data"
    },
    {
     "data": {
      "text/plain": [
       "1"
      ]
     },
     "execution_count": 218,
     "metadata": {},
     "output_type": "execute_result"
    }
   ],
   "source": [
    "plot_learning_curve(loss,epochs)"
   ]
  },
  {
   "cell_type": "code",
   "execution_count": 219,
   "metadata": {},
   "outputs": [
    {
     "name": "stdout",
     "output_type": "stream",
     "text": [
      "Training Data\n",
      "Loss: 0.010628\n",
      "Acuuracy: 99.730000\n",
      "\n",
      "Testing Data\n",
      "Loss: 0.038402\n",
      "Acuuracy: 98.890000\n",
      "\n"
     ]
    },
    {
     "data": {
      "text/plain": [
       "1"
      ]
     },
     "execution_count": 219,
     "metadata": {},
     "output_type": "execute_result"
    }
   ],
   "source": [
    "score_of_model(trained_model,train_image_pr, train_label_pr,\"Training Data\")\n",
    "score_of_model(trained_model,test_image_pr, test_label_pr,\"Testing Data\")"
   ]
  }
 ],
 "metadata": {
  "kernelspec": {
   "display_name": "Python 3",
   "language": "python",
   "name": "python3"
  },
  "language_info": {
   "codemirror_mode": {
    "name": "ipython",
    "version": 3
   },
   "file_extension": ".py",
   "mimetype": "text/x-python",
   "name": "python",
   "nbconvert_exporter": "python",
   "pygments_lexer": "ipython3",
   "version": "3.6.6"
  }
 },
 "nbformat": 4,
 "nbformat_minor": 2
}
